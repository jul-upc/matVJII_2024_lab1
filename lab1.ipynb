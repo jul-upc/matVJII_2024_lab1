{
  "cells": [
    {
      "cell_type": "markdown",
      "metadata": {
        "id": "_aWyCIGLYY63"
      },
      "source": [
        "# **Lab 1:** Implementing a solver for systems of linear equations\n",
        "\n",
        "Edit this box and list the group components:\n",
        "*   Member 1\n",
        "*   Member 2\n"
      ]
    },
    {
      "cell_type": "markdown",
      "metadata": {
        "id": "wpfr2trhBv__"
      },
      "source": [
        "---\n",
        "\n",
        "## Setting up the environment:\n",
        "---\n",
        "\n"
      ]
    },
    {
      "cell_type": "markdown",
      "metadata": {
        "id": "Hha4XtVsM9K6"
      },
      "source": [
        "Mount drive:"
      ]
    },
    {
      "cell_type": "code",
      "execution_count": null,
      "metadata": {
        "id": "KB1eW53EM34V"
      },
      "outputs": [],
      "source": [
        "from google.colab import drive\n",
        "drive.mount('/content/drive')"
      ]
    },
    {
      "cell_type": "markdown",
      "metadata": {
        "id": "RojRcgLSM-63"
      },
      "source": [
        "Download extra files and move them to drive folder. **IMPORTANT:** Run this cell only once. Delete it as soon as it has been executed to avoid further problems."
      ]
    },
    {
      "cell_type": "code",
      "execution_count": null,
      "metadata": {
        "id": "wE197_4SNJIS"
      },
      "outputs": [],
      "source": [
        "!wget https://raw.githubusercontent.com/jul-upc/matVJII_2024_lab1/main/lab1_functions.py\n",
        "!mkdir -p drive/MyDrive/mathsvjII/lab1\n",
        "!mv lab1_functions.py drive/MyDrive/mathsvjII/lab1/lab1_functions.py "
      ]
    },
    {
      "cell_type": "markdown",
      "metadata": {
        "id": "1BBbF8HrNaYt"
      },
      "source": [
        "Import modules that you will create"
      ]
    },
    {
      "cell_type": "code",
      "execution_count": null,
      "metadata": {
        "id": "haSotzllNf9w"
      },
      "outputs": [],
      "source": [
        "import importlib\n",
        "import sys\n",
        "sys.path.append('/content/drive/My Drive/mathsvjII/lab1/')\n",
        "lab1_functions= importlib.import_module(\"lab1_functions\")"
      ]
    },
    {
      "cell_type": "markdown",
      "metadata": {
        "id": "SXeeSKcFQaP7"
      },
      "source": [
        "Import the system modules as needed"
      ]
    },
    {
      "cell_type": "code",
      "execution_count": null,
      "metadata": {
        "id": "g3seXDUxQZvK"
      },
      "outputs": [],
      "source": [
        "import numpy as np"
      ]
    },
    {
      "cell_type": "markdown",
      "metadata": {
        "id": "3cEvtL2geJhN"
      },
      "source": [
        "To call the functions in the file lab1_functions.py you will need to use:\n",
        "\n",
        "*   `At, bt = lab1_functions.naive_forward_elimination(A, b)`\n",
        "*   `At, bt = lab1_functions.forward_elimination(A, b)`\n",
        "*   `c = lab1_functions.backtracking(At, bt)`\n",
        "\n",
        "If changes has happened over the lab1_functions file after importing it (in the previous box) you will need to reload the module by using\n",
        "`importlib.reload(lab1_functions)`\n",
        "before calling the functions. \n",
        "\n",
        "Example:"
      ]
    },
    {
      "cell_type": "code",
      "execution_count": 16,
      "metadata": {
        "colab": {
          "base_uri": "https://localhost:8080/"
        },
        "id": "WDBwoVF5foPZ",
        "outputId": "e094d098-59d0-4924-f97c-08aa17179202"
      },
      "outputs": [
        {
          "name": "stdout",
          "output_type": "stream",
          "text": [
            "[[2.]]\n"
          ]
        }
      ],
      "source": [
        "importlib.reload(lab1_functions)\n",
        "\n",
        "At = np.zeros((1,1))\n",
        "bt = np.zeros((1,1))\n",
        "\n",
        "c = lab1_functions.backtracking(At,bt)\n",
        "\n",
        "print(c)"
      ]
    },
    {
      "cell_type": "markdown",
      "metadata": {
        "id": "LYPMXnh-LHNn"
      },
      "source": [
        "\n",
        "\n",
        "---\n",
        "\n",
        "\n",
        "## **Exercise 1:**\n",
        "\n",
        "Implement and test a backtracking substitution function. \n",
        "\n",
        "### 1.1:\n",
        "Implement the backtracking function in the lab1_functions.py file.\n",
        "Input arguments should be At and bt representing a Triangular matrix and an independent term vector. The output of the function should be the solution vector $\\boldsymbol{x}$ such that $\\boldsymbol{A}_t\\boldsymbol{x}=\\boldsymbol{b}_t$\n",
        "\n",
        "### 2.1:\n",
        "\n",
        "Test the implemented function inside this notebook. To this end generate a **couple** of triangular systems for which you know the answer. The purpose of this section is to **TEST** your function, so consider complex cases, e.g., system dimensions > 4"
      ]
    },
    {
      "cell_type": "code",
      "execution_count": null,
      "metadata": {
        "id": "txUxhm7DbAR1"
      },
      "outputs": [],
      "source": []
    },
    {
      "cell_type": "markdown",
      "metadata": {
        "id": "ld9ydWJTbdE1"
      },
      "source": [
        "\n",
        "\n",
        "---\n",
        "\n",
        "\n",
        "## **Exercise 2:**\n",
        "\n",
        "Implement and test a naïve forward elimination function \n",
        "\n",
        "### 2.1:\n",
        "Implement the naive_forward_elimination function in the lab1_functions.py file.\n",
        "Input arguments should be A and b representing a generic square matrix and an independent term vector. The output of the function should be an equivalent system represented by At, bt with At triangular.\n",
        "\n",
        "Use the expression\n",
        "$$ \\boldsymbol{r}_j = a_{pp} \\boldsymbol{r}_j - a_{jp}\\boldsymbol{r}_p\\quad \\forall j>p $$\n",
        "to make 0 under the pivot $a_{pp}$\n",
        "\n",
        "\n",
        "### 2.2:\n",
        "\n",
        "Test the implemented function inside this notebook. To this end generate a **couple** of systems for which you know the answer. The purpose of this section is to **TEST** your function, so consider complex cases, e.g., system dimensions > 4.\n",
        "\n",
        "Find the solutions to the proposed system by calling first the naive_forward_elimination() function and after, the backtracking function already implemented in the above exercise."
      ]
    },
    {
      "cell_type": "code",
      "execution_count": null,
      "metadata": {
        "id": "1SwM5dy_Q5Nu"
      },
      "outputs": [],
      "source": []
    },
    {
      "cell_type": "markdown",
      "metadata": {
        "id": "58-kQrTBQ8mQ"
      },
      "source": [
        "\n",
        "\n",
        "---\n",
        "\n",
        "\n",
        "## **Exercise 3:**\n",
        "\n",
        "Improve the forward elimination\n",
        "\n",
        "### 3.1:\n",
        "Implement the forward_elimination function in the lab1_functions.py file.\n",
        "Input arguments should be A and b representing a generic square matrix and an independent term vector. The output of the function should be an equivalent system represented by At, bt with At triangular. However, this time:\n",
        "\n",
        "\n",
        "\n",
        "*   Use the expression\n",
        "$$ \\boldsymbol{r}_j =  \\boldsymbol{r}_j - a_{jp}/a_{pp} \\boldsymbol{r}_p\\quad \\forall j>p $$\n",
        "to make 0 under the pivot $a_{pp}$\n",
        "*   Implement the partial pivoting to chose at each iteration of the forward elimination the best row to pivot with.\n",
        "\n",
        "*   The function should return also a bolean variable associated with the uniqueness of the system solution. If true, the system has a unique solution, otherwise (False) the system has either many or none solutions.\n",
        "\n",
        "\n"
      ]
    },
    {
      "cell_type": "markdown",
      "metadata": {
        "id": "b4-F44naTB5G"
      },
      "source": [
        "\n",
        "\n",
        "### 3.2:\n",
        "\n",
        "Test the implemented function inside this notebook. To this end generate a **couple** of systems for which you know the answer. The purpose of this section is to **TEST** your function, so consider complex cases, e.g., system dimensions > 4.\n",
        "\n",
        "Find the solutions to the proposed system by calling first the naive_forward_elimination() function and after, the backtracking function already implemented in the above exercise.\n"
      ]
    },
    {
      "cell_type": "code",
      "execution_count": null,
      "metadata": {
        "id": "A9HzRgG8TD1K"
      },
      "outputs": [],
      "source": []
    },
    {
      "cell_type": "markdown",
      "metadata": {
        "id": "anAUl-6iTEPg"
      },
      "source": [
        "\n",
        "### 3.3:\n",
        "\n",
        "Test both functions for forward elimination with the next system of equations:\n",
        "$$ x+2y+3z = 14$$\n",
        "$$ x+2y-2z = -1$$\n",
        "$$ y+2z = 8$$"
      ]
    },
    {
      "cell_type": "code",
      "execution_count": null,
      "metadata": {
        "id": "JvqJyjRnUaqM"
      },
      "outputs": [],
      "source": []
    },
    {
      "cell_type": "markdown",
      "metadata": {
        "id": "YpWIay3jUbFU"
      },
      "source": [
        "### 3.4: \n",
        "\n",
        "Create a system of equations with multiple solutions and one without solution. Try to solve both systems using the two forward elimination functions and comment the result.\n"
      ]
    },
    {
      "cell_type": "code",
      "execution_count": null,
      "metadata": {
        "id": "UB5kpTf_VETf"
      },
      "outputs": [],
      "source": []
    },
    {
      "cell_type": "markdown",
      "metadata": {
        "id": "kd70T9RFLT7Y"
      },
      "source": [
        "\n",
        "\n",
        "\n",
        "---\n",
        "---\n",
        "# **Additional info:** \n",
        "\n",
        "\n"
      ]
    },
    {
      "cell_type": "markdown",
      "metadata": {
        "id": "HHJZ7FduLfMM"
      },
      "source": [
        "Big number issue:"
      ]
    },
    {
      "cell_type": "code",
      "execution_count": null,
      "metadata": {
        "id": "AD285pV5XRDz"
      },
      "outputs": [],
      "source": [
        "a = 1E99\n",
        "b = 1E99+1\n",
        "print(a-b)"
      ]
    },
    {
      "cell_type": "markdown",
      "metadata": {
        "id": "3nOmDcVWZfpz"
      },
      "source": [
        "\n",
        "\n",
        "---\n",
        "\n",
        "\n",
        "\n",
        "**HOW TO:** Swap to rows\n",
        "\n",
        "Given a matrix A,  \n",
        "`A[[i,j],:] = A[[j,i],:] `  \n",
        "swaps rows i and j.\n",
        "\n",
        "In the next example the matrix A is a random created 6x6 matrix and then the 2nd and 6th rows (indexes 1 and 5) are exchanged"
      ]
    },
    {
      "cell_type": "code",
      "execution_count": null,
      "metadata": {
        "id": "mZSWwCmrZesm"
      },
      "outputs": [],
      "source": [
        "A = np.random.rand(6,6)\n",
        "print('A =', A,\"\\n\")\n",
        "A[[1,5],:] = A[[5,1],:]\n",
        "print(\"A swapped=\",A)\n",
        "\n",
        "print(type(A))"
      ]
    },
    {
      "cell_type": "markdown",
      "metadata": {
        "id": "uSOm0HoJee9d"
      },
      "source": [
        "---\n",
        "\n",
        "**HOW TO:** Search for the maximum entry into a vector\n",
        "\n",
        "Use the function `np.argmax(L)` to find the position index `j`, for which `L[j]` is the maximum entry in `L`.\n",
        "\n",
        "In the next example we would like to find the row wich contains the best pivot to continue with a triangulation process of matrix `B`. `L` represents the vector of considered entries and `m` is the position of the best pivot (the farthest from 0) in `L`."
      ]
    },
    {
      "cell_type": "code",
      "execution_count": null,
      "metadata": {
        "id": "68yHkcf-azG-"
      },
      "outputs": [],
      "source": [
        "B = np.array([[ 0.66207722,  0.52655123,  -0.25817321,  0.08355348,  -0.67190337,  0.36463801],\n",
        "    [ 0,  -0.56111226, -0.96739743, -0.90302233, -0.09202517, -0.54174931],\n",
        "    [ 0,   0,           0.08650408,  0.71455831,  0.38972072,  0.31245884],\n",
        "    [ 0,   0,           0.59489716,  -0.07148201,  -0.57395873,  0.69406166],\n",
        "    [ 0,   0,          -0.95005076,  0.53283380,   0.37666519,  -0.05645905],\n",
        "    [ 0,   0,          -0.27707964, -0.74979451, -0.76113234, -0.03147524]])\n",
        "\n",
        "print(B)\n",
        "\n",
        "L = B[2:,2]\n",
        "print(L,'\\n')\n",
        "m = np.argmax(abs(L))\n",
        "print(m)\n",
        "print(L[m])"
      ]
    },
    {
      "cell_type": "markdown",
      "metadata": {
        "id": "KKvy7DbUUG2-"
      },
      "source": [
        "---\n",
        "\n",
        "**HOW TO:** Concatenate two matrices\n",
        "\n",
        "Use the functions \n",
        "\n",
        "*   `np.concatenate((A, B), axis = 0)` to stack two matrixes along the vertical direction\n",
        "*   `np.concatenate((A, B), axis = 1)` to stack two matrixes along the horizontal direction\n",
        "\n",
        "Alternatives also exist, e.g., np.hstack(), np.vstack().\n",
        "\n",
        "The next example takes two matrices and concatenates them in the vertical direction.\n",
        "\n",
        "\n",
        " "
      ]
    },
    {
      "cell_type": "code",
      "execution_count": null,
      "metadata": {
        "id": "zGPZC09DE1iA"
      },
      "outputs": [],
      "source": [
        "A = np.random.rand(4,4)\n",
        "B = np.random.rand(2,4)\n",
        "\n",
        "print(\"A = \", A, \"\\n\")\n",
        "print(\"B = \", B, \"\\n\")\n",
        "\n",
        "C = np.concatenate((A,B), axis = 0)\n",
        "print(\"C = \", C, \"\\n\")\n",
        "C2 = np.vstack((A,B))\n",
        "print(\"C = \", C2, \"\\n\")"
      ]
    }
  ],
  "metadata": {
    "colab": {
      "collapsed_sections": [],
      "provenance": []
    },
    "kernelspec": {
      "display_name": "Python 3",
      "name": "python3"
    },
    "language_info": {
      "name": "python"
    }
  },
  "nbformat": 4,
  "nbformat_minor": 0
}
